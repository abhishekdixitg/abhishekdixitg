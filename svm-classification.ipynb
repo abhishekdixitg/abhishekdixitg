{
 "cells": [
  {
   "cell_type": "code",
   "execution_count": 1,
   "id": "d1b156b0",
   "metadata": {
    "_cell_guid": "b1076dfc-b9ad-4769-8c92-a6c4dae69d19",
    "_uuid": "8f2839f25d086af736a60e9eeb907d3b93b6e0e5",
    "execution": {
     "iopub.execute_input": "2022-02-22T09:10:53.135341Z",
     "iopub.status.busy": "2022-02-22T09:10:53.134157Z",
     "iopub.status.idle": "2022-02-22T09:10:53.153959Z",
     "shell.execute_reply": "2022-02-22T09:10:53.153226Z",
     "shell.execute_reply.started": "2022-02-22T09:03:33.479064Z"
    },
    "papermill": {
     "duration": 0.039282,
     "end_time": "2022-02-22T09:10:53.154151",
     "exception": false,
     "start_time": "2022-02-22T09:10:53.114869",
     "status": "completed"
    },
    "tags": []
   },
   "outputs": [
    {
     "name": "stdout",
     "output_type": "stream",
     "text": [
      "/kaggle/input/wine-quality-dataset/WineQT.csv\n"
     ]
    }
   ],
   "source": [
    "# This Python 3 environment comes with many helpful analytics libraries installed\n",
    "# It is defined by the kaggle/python Docker image: https://github.com/kaggle/docker-python\n",
    "# For example, here's several helpful packages to load\n",
    "\n",
    "import numpy as np # linear algebra\n",
    "import pandas as pd # data processing, CSV file I/O (e.g. pd.read_csv)\n",
    "\n",
    "# Input data files are available in the read-only \"../input/\" directory\n",
    "# For example, running this (by clicking run or pressing Shift+Enter) will list all files under the input directory\n",
    "\n",
    "import os\n",
    "for dirname, _, filenames in os.walk('/kaggle/input'):\n",
    "    for filename in filenames:\n",
    "        print(os.path.join(dirname, filename))\n",
    "\n",
    "# You can write up to 20GB to the current directory (/kaggle/working/) that gets preserved as output when you create a version using \"Save & Run All\" \n",
    "# You can also write temporary files to /kaggle/temp/, but they won't be saved outside of the current session"
   ]
  },
  {
   "cell_type": "code",
   "execution_count": 2,
   "id": "112ab6cc",
   "metadata": {
    "execution": {
     "iopub.execute_input": "2022-02-22T09:10:53.190494Z",
     "iopub.status.busy": "2022-02-22T09:10:53.189728Z",
     "iopub.status.idle": "2022-02-22T09:10:53.225594Z",
     "shell.execute_reply": "2022-02-22T09:10:53.226308Z",
     "shell.execute_reply.started": "2022-02-22T09:03:39.264083Z"
    },
    "papermill": {
     "duration": 0.057021,
     "end_time": "2022-02-22T09:10:53.226521",
     "exception": false,
     "start_time": "2022-02-22T09:10:53.169500",
     "status": "completed"
    },
    "tags": []
   },
   "outputs": [
    {
     "name": "stdout",
     "output_type": "stream",
     "text": [
      "      fixed acidity  volatile acidity  citric acid  residual sugar  chlorides  \\\n",
      "0               7.4             0.700         0.00             1.9      0.076   \n",
      "1               7.8             0.880         0.00             2.6      0.098   \n",
      "2               7.8             0.760         0.04             2.3      0.092   \n",
      "3              11.2             0.280         0.56             1.9      0.075   \n",
      "4               7.4             0.700         0.00             1.9      0.076   \n",
      "...             ...               ...          ...             ...        ...   \n",
      "1138            6.3             0.510         0.13             2.3      0.076   \n",
      "1139            6.8             0.620         0.08             1.9      0.068   \n",
      "1140            6.2             0.600         0.08             2.0      0.090   \n",
      "1141            5.9             0.550         0.10             2.2      0.062   \n",
      "1142            5.9             0.645         0.12             2.0      0.075   \n",
      "\n",
      "      free sulfur dioxide  total sulfur dioxide  density    pH  sulphates  \\\n",
      "0                    11.0                  34.0  0.99780  3.51       0.56   \n",
      "1                    25.0                  67.0  0.99680  3.20       0.68   \n",
      "2                    15.0                  54.0  0.99700  3.26       0.65   \n",
      "3                    17.0                  60.0  0.99800  3.16       0.58   \n",
      "4                    11.0                  34.0  0.99780  3.51       0.56   \n",
      "...                   ...                   ...      ...   ...        ...   \n",
      "1138                 29.0                  40.0  0.99574  3.42       0.75   \n",
      "1139                 28.0                  38.0  0.99651  3.42       0.82   \n",
      "1140                 32.0                  44.0  0.99490  3.45       0.58   \n",
      "1141                 39.0                  51.0  0.99512  3.52       0.76   \n",
      "1142                 32.0                  44.0  0.99547  3.57       0.71   \n",
      "\n",
      "      alcohol  quality    Id  \n",
      "0         9.4        5     0  \n",
      "1         9.8        5     1  \n",
      "2         9.8        5     2  \n",
      "3         9.8        6     3  \n",
      "4         9.4        5     4  \n",
      "...       ...      ...   ...  \n",
      "1138     11.0        6  1592  \n",
      "1139      9.5        6  1593  \n",
      "1140     10.5        5  1594  \n",
      "1141     11.2        6  1595  \n",
      "1142     10.2        5  1597  \n",
      "\n",
      "[1143 rows x 13 columns]\n"
     ]
    }
   ],
   "source": [
    "data = pd.read_csv('/kaggle/input/wine-quality-dataset/WineQT.csv')\n",
    "print(data)"
   ]
  },
  {
   "cell_type": "code",
   "execution_count": 3,
   "id": "68e11e83",
   "metadata": {
    "execution": {
     "iopub.execute_input": "2022-02-22T09:10:53.261146Z",
     "iopub.status.busy": "2022-02-22T09:10:53.260502Z",
     "iopub.status.idle": "2022-02-22T09:10:53.267257Z",
     "shell.execute_reply": "2022-02-22T09:10:53.267787Z",
     "shell.execute_reply.started": "2022-02-22T09:03:43.349492Z"
    },
    "papermill": {
     "duration": 0.02526,
     "end_time": "2022-02-22T09:10:53.267977",
     "exception": false,
     "start_time": "2022-02-22T09:10:53.242717",
     "status": "completed"
    },
    "tags": []
   },
   "outputs": [
    {
     "data": {
      "text/plain": [
       "(1143, 13)"
      ]
     },
     "execution_count": 3,
     "metadata": {},
     "output_type": "execute_result"
    }
   ],
   "source": [
    "data.shape"
   ]
  },
  {
   "cell_type": "code",
   "execution_count": 4,
   "id": "e4a7dd08",
   "metadata": {
    "execution": {
     "iopub.execute_input": "2022-02-22T09:10:53.302638Z",
     "iopub.status.busy": "2022-02-22T09:10:53.301985Z",
     "iopub.status.idle": "2022-02-22T09:10:53.310066Z",
     "shell.execute_reply": "2022-02-22T09:10:53.309544Z",
     "shell.execute_reply.started": "2022-02-22T09:03:46.104496Z"
    },
    "papermill": {
     "duration": 0.02638,
     "end_time": "2022-02-22T09:10:53.310260",
     "exception": false,
     "start_time": "2022-02-22T09:10:53.283880",
     "status": "completed"
    },
    "tags": []
   },
   "outputs": [
    {
     "data": {
      "text/plain": [
       "fixed acidity           0\n",
       "volatile acidity        0\n",
       "citric acid             0\n",
       "residual sugar          0\n",
       "chlorides               0\n",
       "free sulfur dioxide     0\n",
       "total sulfur dioxide    0\n",
       "density                 0\n",
       "pH                      0\n",
       "sulphates               0\n",
       "alcohol                 0\n",
       "quality                 0\n",
       "Id                      0\n",
       "dtype: int64"
      ]
     },
     "execution_count": 4,
     "metadata": {},
     "output_type": "execute_result"
    }
   ],
   "source": [
    "data.isna().sum()"
   ]
  },
  {
   "cell_type": "code",
   "execution_count": 5,
   "id": "2dfe4a57",
   "metadata": {
    "execution": {
     "iopub.execute_input": "2022-02-22T09:10:53.346159Z",
     "iopub.status.busy": "2022-02-22T09:10:53.345523Z",
     "iopub.status.idle": "2022-02-22T09:10:53.415089Z",
     "shell.execute_reply": "2022-02-22T09:10:53.415578Z",
     "shell.execute_reply.started": "2022-02-22T09:03:48.840521Z"
    },
    "papermill": {
     "duration": 0.088718,
     "end_time": "2022-02-22T09:10:53.415789",
     "exception": false,
     "start_time": "2022-02-22T09:10:53.327071",
     "status": "completed"
    },
    "tags": []
   },
   "outputs": [
    {
     "data": {
      "text/html": [
       "<div>\n",
       "<style scoped>\n",
       "    .dataframe tbody tr th:only-of-type {\n",
       "        vertical-align: middle;\n",
       "    }\n",
       "\n",
       "    .dataframe tbody tr th {\n",
       "        vertical-align: top;\n",
       "    }\n",
       "\n",
       "    .dataframe thead th {\n",
       "        text-align: right;\n",
       "    }\n",
       "</style>\n",
       "<table border=\"1\" class=\"dataframe\">\n",
       "  <thead>\n",
       "    <tr style=\"text-align: right;\">\n",
       "      <th></th>\n",
       "      <th>fixed acidity</th>\n",
       "      <th>volatile acidity</th>\n",
       "      <th>citric acid</th>\n",
       "      <th>residual sugar</th>\n",
       "      <th>chlorides</th>\n",
       "      <th>free sulfur dioxide</th>\n",
       "      <th>total sulfur dioxide</th>\n",
       "      <th>density</th>\n",
       "      <th>pH</th>\n",
       "      <th>sulphates</th>\n",
       "      <th>alcohol</th>\n",
       "      <th>quality</th>\n",
       "      <th>Id</th>\n",
       "    </tr>\n",
       "  </thead>\n",
       "  <tbody>\n",
       "    <tr>\n",
       "      <th>count</th>\n",
       "      <td>1143.00</td>\n",
       "      <td>1143.00</td>\n",
       "      <td>1143.00</td>\n",
       "      <td>1143.00</td>\n",
       "      <td>1143.00</td>\n",
       "      <td>1143.00</td>\n",
       "      <td>1143.00</td>\n",
       "      <td>1143.00</td>\n",
       "      <td>1143.00</td>\n",
       "      <td>1143.00</td>\n",
       "      <td>1143.00</td>\n",
       "      <td>1143.00</td>\n",
       "      <td>1143.00</td>\n",
       "    </tr>\n",
       "    <tr>\n",
       "      <th>mean</th>\n",
       "      <td>8.31</td>\n",
       "      <td>0.53</td>\n",
       "      <td>0.27</td>\n",
       "      <td>2.53</td>\n",
       "      <td>0.09</td>\n",
       "      <td>15.62</td>\n",
       "      <td>45.91</td>\n",
       "      <td>1.00</td>\n",
       "      <td>3.31</td>\n",
       "      <td>0.66</td>\n",
       "      <td>10.44</td>\n",
       "      <td>5.66</td>\n",
       "      <td>804.97</td>\n",
       "    </tr>\n",
       "    <tr>\n",
       "      <th>std</th>\n",
       "      <td>1.75</td>\n",
       "      <td>0.18</td>\n",
       "      <td>0.20</td>\n",
       "      <td>1.36</td>\n",
       "      <td>0.05</td>\n",
       "      <td>10.25</td>\n",
       "      <td>32.78</td>\n",
       "      <td>0.00</td>\n",
       "      <td>0.16</td>\n",
       "      <td>0.17</td>\n",
       "      <td>1.08</td>\n",
       "      <td>0.81</td>\n",
       "      <td>464.00</td>\n",
       "    </tr>\n",
       "    <tr>\n",
       "      <th>min</th>\n",
       "      <td>4.60</td>\n",
       "      <td>0.12</td>\n",
       "      <td>0.00</td>\n",
       "      <td>0.90</td>\n",
       "      <td>0.01</td>\n",
       "      <td>1.00</td>\n",
       "      <td>6.00</td>\n",
       "      <td>0.99</td>\n",
       "      <td>2.74</td>\n",
       "      <td>0.33</td>\n",
       "      <td>8.40</td>\n",
       "      <td>3.00</td>\n",
       "      <td>0.00</td>\n",
       "    </tr>\n",
       "    <tr>\n",
       "      <th>25%</th>\n",
       "      <td>7.10</td>\n",
       "      <td>0.39</td>\n",
       "      <td>0.09</td>\n",
       "      <td>1.90</td>\n",
       "      <td>0.07</td>\n",
       "      <td>7.00</td>\n",
       "      <td>21.00</td>\n",
       "      <td>1.00</td>\n",
       "      <td>3.20</td>\n",
       "      <td>0.55</td>\n",
       "      <td>9.50</td>\n",
       "      <td>5.00</td>\n",
       "      <td>411.00</td>\n",
       "    </tr>\n",
       "    <tr>\n",
       "      <th>50%</th>\n",
       "      <td>7.90</td>\n",
       "      <td>0.52</td>\n",
       "      <td>0.25</td>\n",
       "      <td>2.20</td>\n",
       "      <td>0.08</td>\n",
       "      <td>13.00</td>\n",
       "      <td>37.00</td>\n",
       "      <td>1.00</td>\n",
       "      <td>3.31</td>\n",
       "      <td>0.62</td>\n",
       "      <td>10.20</td>\n",
       "      <td>6.00</td>\n",
       "      <td>794.00</td>\n",
       "    </tr>\n",
       "    <tr>\n",
       "      <th>75%</th>\n",
       "      <td>9.10</td>\n",
       "      <td>0.64</td>\n",
       "      <td>0.42</td>\n",
       "      <td>2.60</td>\n",
       "      <td>0.09</td>\n",
       "      <td>21.00</td>\n",
       "      <td>61.00</td>\n",
       "      <td>1.00</td>\n",
       "      <td>3.40</td>\n",
       "      <td>0.73</td>\n",
       "      <td>11.10</td>\n",
       "      <td>6.00</td>\n",
       "      <td>1209.50</td>\n",
       "    </tr>\n",
       "    <tr>\n",
       "      <th>max</th>\n",
       "      <td>15.90</td>\n",
       "      <td>1.58</td>\n",
       "      <td>1.00</td>\n",
       "      <td>15.50</td>\n",
       "      <td>0.61</td>\n",
       "      <td>68.00</td>\n",
       "      <td>289.00</td>\n",
       "      <td>1.00</td>\n",
       "      <td>4.01</td>\n",
       "      <td>2.00</td>\n",
       "      <td>14.90</td>\n",
       "      <td>8.00</td>\n",
       "      <td>1597.00</td>\n",
       "    </tr>\n",
       "  </tbody>\n",
       "</table>\n",
       "</div>"
      ],
      "text/plain": [
       "       fixed acidity  volatile acidity  citric acid  residual sugar  \\\n",
       "count        1143.00           1143.00      1143.00         1143.00   \n",
       "mean            8.31              0.53         0.27            2.53   \n",
       "std             1.75              0.18         0.20            1.36   \n",
       "min             4.60              0.12         0.00            0.90   \n",
       "25%             7.10              0.39         0.09            1.90   \n",
       "50%             7.90              0.52         0.25            2.20   \n",
       "75%             9.10              0.64         0.42            2.60   \n",
       "max            15.90              1.58         1.00           15.50   \n",
       "\n",
       "       chlorides  free sulfur dioxide  total sulfur dioxide  density       pH  \\\n",
       "count    1143.00              1143.00               1143.00  1143.00  1143.00   \n",
       "mean        0.09                15.62                 45.91     1.00     3.31   \n",
       "std         0.05                10.25                 32.78     0.00     0.16   \n",
       "min         0.01                 1.00                  6.00     0.99     2.74   \n",
       "25%         0.07                 7.00                 21.00     1.00     3.20   \n",
       "50%         0.08                13.00                 37.00     1.00     3.31   \n",
       "75%         0.09                21.00                 61.00     1.00     3.40   \n",
       "max         0.61                68.00                289.00     1.00     4.01   \n",
       "\n",
       "       sulphates  alcohol  quality       Id  \n",
       "count    1143.00  1143.00  1143.00  1143.00  \n",
       "mean        0.66    10.44     5.66   804.97  \n",
       "std         0.17     1.08     0.81   464.00  \n",
       "min         0.33     8.40     3.00     0.00  \n",
       "25%         0.55     9.50     5.00   411.00  \n",
       "50%         0.62    10.20     6.00   794.00  \n",
       "75%         0.73    11.10     6.00  1209.50  \n",
       "max         2.00    14.90     8.00  1597.00  "
      ]
     },
     "execution_count": 5,
     "metadata": {},
     "output_type": "execute_result"
    }
   ],
   "source": [
    "# Describe value data set\n",
    "data.describe().round(2)"
   ]
  },
  {
   "cell_type": "code",
   "execution_count": 6,
   "id": "2e817abc",
   "metadata": {
    "execution": {
     "iopub.execute_input": "2022-02-22T09:10:53.453856Z",
     "iopub.status.busy": "2022-02-22T09:10:53.453222Z",
     "iopub.status.idle": "2022-02-22T09:10:53.457996Z",
     "shell.execute_reply": "2022-02-22T09:10:53.458538Z",
     "shell.execute_reply.started": "2022-02-22T09:03:52.345922Z"
    },
    "papermill": {
     "duration": 0.025862,
     "end_time": "2022-02-22T09:10:53.458716",
     "exception": false,
     "start_time": "2022-02-22T09:10:53.432854",
     "status": "completed"
    },
    "tags": []
   },
   "outputs": [],
   "source": [
    "#drop column id as we dont need it\n",
    "data.drop(columns=\"Id\",inplace=True)"
   ]
  },
  {
   "cell_type": "code",
   "execution_count": 7,
   "id": "094d7e6b",
   "metadata": {
    "execution": {
     "iopub.execute_input": "2022-02-22T09:10:53.498277Z",
     "iopub.status.busy": "2022-02-22T09:10:53.497652Z",
     "iopub.status.idle": "2022-02-22T09:10:53.500278Z",
     "shell.execute_reply": "2022-02-22T09:10:53.500818Z",
     "shell.execute_reply.started": "2022-02-22T09:03:55.226801Z"
    },
    "papermill": {
     "duration": 0.025742,
     "end_time": "2022-02-22T09:10:53.500980",
     "exception": false,
     "start_time": "2022-02-22T09:10:53.475238",
     "status": "completed"
    },
    "tags": []
   },
   "outputs": [
    {
     "name": "stdout",
     "output_type": "stream",
     "text": [
      "quality data [5 6 7 4 8 3]\n"
     ]
    }
   ],
   "source": [
    "#quality data\n",
    "print(\"quality data\",data['quality'].unique())"
   ]
  },
  {
   "cell_type": "code",
   "execution_count": 8,
   "id": "7cbcb93f",
   "metadata": {
    "execution": {
     "iopub.execute_input": "2022-02-22T09:10:53.539306Z",
     "iopub.status.busy": "2022-02-22T09:10:53.538684Z",
     "iopub.status.idle": "2022-02-22T09:10:54.814390Z",
     "shell.execute_reply": "2022-02-22T09:10:54.812941Z",
     "shell.execute_reply.started": "2022-02-22T09:03:57.419668Z"
    },
    "papermill": {
     "duration": 1.296595,
     "end_time": "2022-02-22T09:10:54.814601",
     "exception": false,
     "start_time": "2022-02-22T09:10:53.518006",
     "status": "completed"
    },
    "tags": []
   },
   "outputs": [],
   "source": [
    "from sklearn.model_selection import train_test_split\n",
    "from sklearn.svm import SVC,SVR\n",
    "from sklearn.metrics import accuracy_score"
   ]
  },
  {
   "cell_type": "code",
   "execution_count": 9,
   "id": "468e3435",
   "metadata": {
    "execution": {
     "iopub.execute_input": "2022-02-22T09:10:54.858534Z",
     "iopub.status.busy": "2022-02-22T09:10:54.857766Z",
     "iopub.status.idle": "2022-02-22T09:10:54.859215Z",
     "shell.execute_reply": "2022-02-22T09:10:54.859685Z",
     "shell.execute_reply.started": "2022-02-22T09:04:01.045380Z"
    },
    "papermill": {
     "duration": 0.027418,
     "end_time": "2022-02-22T09:10:54.859870",
     "exception": false,
     "start_time": "2022-02-22T09:10:54.832452",
     "status": "completed"
    },
    "tags": []
   },
   "outputs": [],
   "source": [
    "#Defined X value and y value , and split the data train\n",
    "X = data.drop(columns=\"quality\")\n",
    "Y = data[\"quality\"]"
   ]
  },
  {
   "cell_type": "code",
   "execution_count": 10,
   "id": "65eb0c34",
   "metadata": {
    "execution": {
     "iopub.execute_input": "2022-02-22T09:10:54.900918Z",
     "iopub.status.busy": "2022-02-22T09:10:54.900293Z",
     "iopub.status.idle": "2022-02-22T09:10:54.903564Z",
     "shell.execute_reply": "2022-02-22T09:10:54.904156Z",
     "shell.execute_reply.started": "2022-02-22T09:04:08.140641Z"
    },
    "papermill": {
     "duration": 0.026776,
     "end_time": "2022-02-22T09:10:54.904341",
     "exception": false,
     "start_time": "2022-02-22T09:10:54.877565",
     "status": "completed"
    },
    "tags": []
   },
   "outputs": [],
   "source": [
    "# split the data train and test\n",
    "X_train, X_test, Y_train, Y_test = train_test_split(X,Y,test_size = 0.25, random_state = 42)"
   ]
  },
  {
   "cell_type": "code",
   "execution_count": 11,
   "id": "57601f59",
   "metadata": {
    "execution": {
     "iopub.execute_input": "2022-02-22T09:10:54.942590Z",
     "iopub.status.busy": "2022-02-22T09:10:54.941940Z",
     "iopub.status.idle": "2022-02-22T09:10:54.948500Z",
     "shell.execute_reply": "2022-02-22T09:10:54.949145Z",
     "shell.execute_reply.started": "2022-02-22T09:04:12.209038Z"
    },
    "papermill": {
     "duration": 0.027684,
     "end_time": "2022-02-22T09:10:54.949339",
     "exception": false,
     "start_time": "2022-02-22T09:10:54.921655",
     "status": "completed"
    },
    "tags": []
   },
   "outputs": [
    {
     "name": "stdout",
     "output_type": "stream",
     "text": [
      "X_train: (857, 11)\n",
      "X_test (286, 11)\n",
      "Y_train (857,)\n",
      "Y_test (286,)\n"
     ]
    }
   ],
   "source": [
    "print(\"X_train:\", X_train.shape)\n",
    "print(\"X_test\", X_test.shape)\n",
    "print(\"Y_train\",Y_train.shape)\n",
    "print(\"Y_test\", Y_test.shape)"
   ]
  },
  {
   "cell_type": "code",
   "execution_count": 12,
   "id": "c815e6b2",
   "metadata": {
    "execution": {
     "iopub.execute_input": "2022-02-22T09:10:54.994513Z",
     "iopub.status.busy": "2022-02-22T09:10:54.993794Z",
     "iopub.status.idle": "2022-02-22T09:10:55.111672Z",
     "shell.execute_reply": "2022-02-22T09:10:55.111067Z",
     "shell.execute_reply.started": "2022-02-22T09:05:16.125483Z"
    },
    "papermill": {
     "duration": 0.144983,
     "end_time": "2022-02-22T09:10:55.111823",
     "exception": false,
     "start_time": "2022-02-22T09:10:54.966840",
     "status": "completed"
    },
    "tags": []
   },
   "outputs": [
    {
     "name": "stdout",
     "output_type": "stream",
     "text": [
      "Score the X-train with Y-train is :  0.5950991831971996\n",
      "Score the X-test  with Y-test  is :  0.6433566433566433\n",
      "Model Evaluation Decision Tree : accuracy score  0.6433566433566433\n"
     ]
    }
   ],
   "source": [
    "# using the model SVC\n",
    "svc_model = SVC(C=50,kernel =\"rbf\")\n",
    "# fit model\n",
    "svc_model.fit(X_train,Y_train)\n",
    "\n",
    "#predict\n",
    "y_pred_svc = svc_model.predict(X_test)\n",
    "print(\"Score the X-train with Y-train is : \",svc_model.score(X_train,Y_train))\n",
    "print(\"Score the X-test  with Y-test  is : \",svc_model.score(X_test,Y_test))\n",
    "print(\"Model Evaluation Decision Tree : accuracy score \",accuracy_score(Y_test,y_pred_svc))"
   ]
  },
  {
   "cell_type": "code",
   "execution_count": 13,
   "id": "68434b81",
   "metadata": {
    "execution": {
     "iopub.execute_input": "2022-02-22T09:10:55.151547Z",
     "iopub.status.busy": "2022-02-22T09:10:55.150536Z",
     "iopub.status.idle": "2022-02-22T09:10:55.260484Z",
     "shell.execute_reply": "2022-02-22T09:10:55.261084Z",
     "shell.execute_reply.started": "2022-02-22T09:09:29.269635Z"
    },
    "papermill": {
     "duration": 0.131418,
     "end_time": "2022-02-22T09:10:55.261261",
     "exception": false,
     "start_time": "2022-02-22T09:10:55.129843",
     "status": "completed"
    },
    "tags": []
   },
   "outputs": [
    {
     "name": "stdout",
     "output_type": "stream",
     "text": [
      "Score the X-train with Y-train is :  0.14069185408666396\n",
      "Score the X-test  with Y-test  is :  0.23501709956140815\n",
      "Model Evaluation Decision Tree : accuracy score  0.6433566433566433\n"
     ]
    }
   ],
   "source": [
    "# using the model SVR\n",
    "svr_model = SVR(degree=1,coef0=1, tol=0.001, C=1.5,epsilon=0.001)\n",
    "#fit model\n",
    "svr_model.fit(X_train, Y_train)\n",
    "\n",
    "y_pred_svr = svc_model.predict(X_test)\n",
    "\n",
    "print(\"Score the X-train with Y-train is : \",svr_model.score(X_train,Y_train))\n",
    "print(\"Score the X-test  with Y-test  is : \",svr_model.score(X_test,Y_test))\n",
    "print(\"Model Evaluation Decision Tree : accuracy score \",accuracy_score(Y_test,y_pred_svr))"
   ]
  }
 ],
 "metadata": {
  "kernelspec": {
   "display_name": "Python 3",
   "language": "python",
   "name": "python3"
  },
  "language_info": {
   "codemirror_mode": {
    "name": "ipython",
    "version": 3
   },
   "file_extension": ".py",
   "mimetype": "text/x-python",
   "name": "python",
   "nbconvert_exporter": "python",
   "pygments_lexer": "ipython3",
   "version": "3.7.12"
  },
  "papermill": {
   "default_parameters": {},
   "duration": 13.419921,
   "end_time": "2022-02-22T09:10:56.192581",
   "environment_variables": {},
   "exception": null,
   "input_path": "__notebook__.ipynb",
   "output_path": "__notebook__.ipynb",
   "parameters": {},
   "start_time": "2022-02-22T09:10:42.772660",
   "version": "2.3.3"
  }
 },
 "nbformat": 4,
 "nbformat_minor": 5
}
